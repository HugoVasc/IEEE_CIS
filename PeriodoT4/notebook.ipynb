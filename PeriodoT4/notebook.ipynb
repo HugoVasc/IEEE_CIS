{
 "cells": [
  {
   "cell_type": "markdown",
   "metadata": {},
   "source": [
    "### Preparando arquivos"
   ]
  },
  {
   "cell_type": "code",
   "execution_count": 16,
   "metadata": {},
   "outputs": [
    {
     "name": "stdout",
     "output_type": "stream",
     "text": [
      ".\\animals\\cats\n",
      ".\\animals\\dogs\n",
      ".\\animals\\panda\n"
     ]
    }
   ],
   "source": [
    "import os\n",
    "import zipfile\n",
    "\n",
    "def unzip_data(zip_file, data_dir):\n",
    "    with zipfile.ZipFile(zip_file, 'r') as zip_ref:\n",
    "        zip_ref.extractall(data_dir)\n",
    "\n",
    "\n",
    "def create_data_dir(data_dir):\n",
    "    if not os.path.exists(data_dir):\n",
    "        os.mkdir(data_dir)\n",
    "    train_dir = os.path.join(data_dir, 'train')\n",
    "    test_dir = os.path.join(data_dir, 'test')\n",
    "    val_dir = os.path.join(data_dir, 'val')\n",
    "    if not os.path.exists(train_dir):\n",
    "        os.mkdir(train_dir)\n",
    "    if not os.path.exists(train_dir):\n",
    "        os.mkdir(train_dir)\n",
    "    if not os.path.exists(test_dir):\n",
    "        os.mkdir(test_dir)\n",
    "    if not os.path.exists(val_dir):\n",
    "        os.mkdir(val_dir)\n",
    "    return train_dir, test_dir, val_dir\n",
    "\n",
    "\n",
    "def split_data(origin_dir, data_dir, train_dir, test_dir, val_dir, train_size, test_size, val_size):\n",
    "    unzip_data(os.path.join('.', 'animals.zip'), os.path.join('.'))\n",
    "    for c in os.listdir(origin_dir):\n",
    "        class_dir = os.path.join(origin_dir, c)\n",
    "        print(class_dir)\n",
    "        if not os.path.exists(os.path.join(train_dir, c)):\n",
    "            os.mkdir(os.path.join(train_dir, c))\n",
    "        if not os.path.exists(os.path.join(val_dir, c)):\n",
    "            os.mkdir(os.path.join(val_dir, c))\n",
    "        for i, img in enumerate(os.listdir(class_dir)):\n",
    "            if i < train_size:\n",
    "                os.rename(os.path.join(class_dir, img), os.path.join(train_dir, c, img))\n",
    "            elif i < train_size + test_size:\n",
    "                os.rename(os.path.join(class_dir, img), os.path.join(test_dir, img))\n",
    "            else:\n",
    "                os.rename(os.path.join(class_dir, img), os.path.join(val_dir, c, img))\n",
    "\n",
    "ORIGIN_DIR=os.path.join('.', 'animals')\n",
    "DATA_DIR=os.path.join('.', 'data')\n",
    "TRAIN_DIR, TEST_DIR, VAL_DIR = create_data_dir(DATA_DIR)\n",
    "\n",
    "split_data(ORIGIN_DIR, DATA_DIR, TRAIN_DIR, TEST_DIR, VAL_DIR, 100, 70, 30)"
   ]
  }
 ],
 "metadata": {
  "kernelspec": {
   "display_name": "base",
   "language": "python",
   "name": "python3"
  },
  "language_info": {
   "codemirror_mode": {
    "name": "ipython",
    "version": 3
   },
   "file_extension": ".py",
   "mimetype": "text/x-python",
   "name": "python",
   "nbconvert_exporter": "python",
   "pygments_lexer": "ipython3",
   "version": "3.10.9"
  },
  "orig_nbformat": 4
 },
 "nbformat": 4,
 "nbformat_minor": 2
}
